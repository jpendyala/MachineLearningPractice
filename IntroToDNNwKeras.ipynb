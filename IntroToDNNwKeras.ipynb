{
  "nbformat": 4,
  "nbformat_minor": 0,
  "metadata": {
    "colab": {
      "name": "IntroToDNNwKeras.ipynb",
      "private_outputs": true,
      "provenance": [],
      "collapsed_sections": []
    },
    "kernelspec": {
      "name": "python3",
      "display_name": "Python 3"
    },
    "accelerator": "TPU"
  },
  "cells": [
    {
      "cell_type": "markdown",
      "metadata": {
        "id": "40M3_WC1ni_8"
      },
      "source": [
        "**STEP 1**"
      ]
    },
    {
      "cell_type": "markdown",
      "metadata": {
        "id": "UZW-NHVP7IeS"
      },
      "source": [
        "###Clone the repo to get the slides and the model for the course"
      ]
    },
    {
      "cell_type": "code",
      "metadata": {
        "id": "u2fLC-va7oeM"
      },
      "source": [
        "# Clone the entire repo.\n",
        "!git clone -l -s https://github.com/cagBRT/IntroToDNNwKeras.git cloned-repo\n",
        "%cd cloned-repo"
      ],
      "execution_count": null,
      "outputs": []
    },
    {
      "cell_type": "code",
      "metadata": {
        "id": "3lbTD6XA7p0O"
      },
      "source": [
        "from IPython.display import Image\n",
        "def page(num):\n",
        "    return Image(\"Intro to Deep Neural Networks with Keras (\"+str(num)+ \").png\")\n",
        "print(\"done\")"
      ],
      "execution_count": null,
      "outputs": []
    },
    {
      "cell_type": "markdown",
      "metadata": {
        "id": "k6y3OiA_aMgd"
      },
      "source": [
        "**STEP 2**"
      ]
    },
    {
      "cell_type": "code",
      "metadata": {
        "id": "vW7TyrJt7xBI"
      },
      "source": [
        "from IPython.display import Image\n",
        "Image(\"Intro to Deep Neural Networks with Keras (2).png\")"
      ],
      "execution_count": null,
      "outputs": []
    },
    {
      "cell_type": "code",
      "metadata": {
        "id": "pzDDYhIPJXbU"
      },
      "source": [
        "from IPython.display import Image\n",
        "Image(\"Intro to Deep Neural Networks with Keras (23).png\")"
      ],
      "execution_count": null,
      "outputs": []
    },
    {
      "cell_type": "markdown",
      "metadata": {
        "id": "5dh1Yax99V7a"
      },
      "source": [
        "##Why are we using Keras?\n",
        "\n",
        "Keras is the most popular framework for deep learning. "
      ]
    },
    {
      "cell_type": "code",
      "metadata": {
        "id": "Tw95vEuQ9Mv3"
      },
      "source": [
        "page(4)"
      ],
      "execution_count": null,
      "outputs": []
    },
    {
      "cell_type": "markdown",
      "metadata": {
        "id": "cx2jwfvt-GKa"
      },
      "source": [
        "Keras is a high level API, which means it is very easy to use and there is often little need to debug code. It is great for fast prototyping, you can often create a model in just a few minutes. \n",
        "\n",
        "It is not a high performance framework and is better suited to smaller datasets. So in addition to Keras, you may want to learn TensorFlow or PyTorch. \n"
      ]
    },
    {
      "cell_type": "code",
      "metadata": {
        "id": "Eq2byu7P-CrG"
      },
      "source": [
        "page(5)"
      ],
      "execution_count": null,
      "outputs": []
    },
    {
      "cell_type": "markdown",
      "metadata": {
        "id": "ZO1uhtf_kS_A"
      },
      "source": [
        "##Install the necessary libraries\n",
        "\n",
        "https://www.codeastar.com/visualize-convolutional-neural-network/\n",
        "\n"
      ]
    },
    {
      "cell_type": "code",
      "metadata": {
        "id": "9rvskYlLmkT9"
      },
      "source": [
        "from __future__ import absolute_import, division, print_function, unicode_literals\n",
        "\n",
        "# Install TensorFlow\n",
        "try:\n",
        "  # %tensorflow_version only exists in Colab.\n",
        "  %tensorflow_version 2.x\n",
        "except Exception:\n",
        "  pass\n",
        "\n",
        "import tensorflow as tf\n",
        "\n",
        "!pip install keras"
      ],
      "execution_count": null,
      "outputs": []
    },
    {
      "cell_type": "markdown",
      "metadata": {
        "id": "gArFCOH5kbEd"
      },
      "source": [
        "##Load the MNIST dataset from Keras"
      ]
    },
    {
      "cell_type": "code",
      "metadata": {
        "id": "whLpCzN9_aKP"
      },
      "source": [
        "page(6)"
      ],
      "execution_count": null,
      "outputs": []
    },
    {
      "cell_type": "markdown",
      "metadata": {
        "id": "AjB6rdUJuFsv"
      },
      "source": [
        "The MNIST database (Modified National Institute of Standards and Technology database) is a large database of handwritten digits that is commonly used for training various image processing systems. </br>\n",
        "\n",
        "The database is also widely used for training and testing in the field of machine learning. The black and white images from NIST were normalized to fit into a 28x28 pixel bounding box and anti-aliased, which introduced grayscale levels.</br>\n",
        "\n",
        "The MNIST database contains 60,000 training images and 10,000 testing images.</br> \n",
        "\n",
        "There have been a number of scientific papers on attempts to achieve the lowest error rate; one paper, using a hierarchical system of convolutional neural networks, manages to get an error rate on the MNIST database of 0.23%. The original creators of the database keep a list of some of the methods tested on it. In their original paper, they use a support-vector machine to get an error rate of 0.8%. \n",
        "\n",
        "An extended dataset similar to MNIST called EMNIST has been published in 2017, which contains 240,000 training images, and 40,000 testing images of handwritten digits and characters."
      ]
    },
    {
      "cell_type": "code",
      "metadata": {
        "id": "GCX44ozIkLLs"
      },
      "source": [
        "from keras.datasets import mnist\n",
        "\n",
        "(x_train, y_train), (x_test, y_test) = mnist.load_data()\n",
        "print(\"done\")"
      ],
      "execution_count": null,
      "outputs": []
    },
    {
      "cell_type": "markdown",
      "metadata": {
        "id": "jrN7kMzivWvQ"
      },
      "source": [
        "Print the number of images for the train and test sets. \n",
        "\n",
        "There should be 60,000 images in the training set. \n",
        "The test set should have 10,000 images. "
      ]
    },
    {
      "cell_type": "code",
      "metadata": {
        "id": "DU1lSUFtAHlf"
      },
      "source": [
        "page(9)"
      ],
      "execution_count": null,
      "outputs": []
    },
    {
      "cell_type": "code",
      "metadata": {
        "id": "KK-TVXSVbxz9"
      },
      "source": [
        "print('Number of images in x_train', x_train.shape[0])\n",
        "print('Number of images in x_test', x_test.shape[0])"
      ],
      "execution_count": null,
      "outputs": []
    },
    {
      "cell_type": "markdown",
      "metadata": {
        "id": "-zgJP7KRvqtn"
      },
      "source": [
        "When we print the shape of the training set, we see it is 60,000 images of size 28 x 28"
      ]
    },
    {
      "cell_type": "code",
      "metadata": {
        "id": "QgfLXfYFAPaj"
      },
      "source": [
        "page(10)"
      ],
      "execution_count": null,
      "outputs": []
    },
    {
      "cell_type": "markdown",
      "metadata": {
        "id": "pJY7wjgSv6tn"
      },
      "source": [
        "Print out the array for training image #7777. \n",
        "\n",
        "The values printed are the values for the pixels in the 28x28 array. \n",
        "If you squint your eyes, you can kind of see the non-zero values form a figure '8'. "
      ]
    },
    {
      "cell_type": "code",
      "metadata": {
        "id": "VnZBKpIIdM39"
      },
      "source": [
        "image_index = 1991\n",
        "print(x_train[image_index])"
      ],
      "execution_count": null,
      "outputs": []
    },
    {
      "cell_type": "markdown",
      "metadata": {
        "id": "Q0GZMENgxJ1u"
      },
      "source": [
        "Next, plot the 28x28 pixel images. First using color, then using greyscale. "
      ]
    },
    {
      "cell_type": "code",
      "metadata": {
        "id": "2jFxQbuEXdrT"
      },
      "source": [
        "import matplotlib.pyplot as plt\n",
        "%matplotlib inline  \n",
        "print(y_train[image_index]) "
      ],
      "execution_count": null,
      "outputs": []
    },
    {
      "cell_type": "code",
      "metadata": {
        "id": "n-jXnulMcPDf"
      },
      "source": [
        "plt.imshow(x_train[image_index], cmap='Greys')"
      ],
      "execution_count": null,
      "outputs": []
    },
    {
      "cell_type": "markdown",
      "metadata": {
        "id": "tkWApMz7zqc8"
      },
      "source": [
        "Check the test images by plotting a sample test image."
      ]
    },
    {
      "cell_type": "code",
      "metadata": {
        "id": "dBiMGAo2mQX2"
      },
      "source": [
        "import matplotlib.pyplot as plt\n",
        "%matplotlib inline  \n",
        "test_image_index = 995\n",
        "print(y_train[test_image_index]) \n"
      ],
      "execution_count": null,
      "outputs": []
    },
    {
      "cell_type": "code",
      "metadata": {
        "id": "jHICMT-OFDxl"
      },
      "source": [
        "plt.imshow(x_train[test_image_index], cmap='Greys')"
      ],
      "execution_count": null,
      "outputs": []
    },
    {
      "cell_type": "markdown",
      "metadata": {
        "id": "i_AVwdnikmI_"
      },
      "source": [
        "##Prepare the data for the model"
      ]
    },
    {
      "cell_type": "code",
      "metadata": {
        "id": "4kKLxaLSAb4c"
      },
      "source": [
        "page(11)"
      ],
      "execution_count": null,
      "outputs": []
    },
    {
      "cell_type": "markdown",
      "metadata": {
        "id": "HlB3vR2lyHO1"
      },
      "source": [
        "Right now the data is a series of 28x28x1 arrays. We need 4 dimensions to use the Keras API, so add another dimension using the reshape function. \n",
        "\n",
        "Divide the range by 255. The range can be described with a 0.0-1.0 where 0.0 means 0 (0x00) and 1.0 means 255 (0xFF). \n",
        "\n",
        "Normalization will help you to remove distortions caused by lights and shadows in an image"
      ]
    },
    {
      "cell_type": "code",
      "metadata": {
        "id": "bjjp-XhikRMF"
      },
      "source": [
        "x_train = x_train.astype('float32')\n",
        "x_test = x_test.astype('float32')\n",
        "x_train /= 255\n",
        "x_test /= 255\n",
        "\n",
        "# Reshaping the array to 4-dims so that it can work with the Keras API\n",
        "x_train = x_train.reshape(x_train.shape[0], 28, 28, 1)\n",
        "x_test = x_test.reshape(x_test.shape[0], 28, 28, 1)\n",
        "#print(x_train[image_index])\n",
        "print(\"done\")"
      ],
      "execution_count": null,
      "outputs": []
    },
    {
      "cell_type": "markdown",
      "metadata": {
        "id": "Eh1ELDglkzPp"
      },
      "source": [
        "##Transform the labels to one-hot encoding\n",
        "\n",
        "If the labels are left as digits the model could interpret them as 0< 1 <2 <3 <4 <5 <6 <7 <8 <9. Which would be incorrect. \n",
        "\n",
        "To solve this problem, the digits are one-hot encoded."
      ]
    },
    {
      "cell_type": "code",
      "metadata": {
        "id": "qUT__-QIAkxu"
      },
      "source": [
        "page(12)"
      ],
      "execution_count": null,
      "outputs": []
    },
    {
      "cell_type": "code",
      "metadata": {
        "id": "93eyBDz9kz4J"
      },
      "source": [
        "from tensorflow.keras.utils import to_categorical\n",
        "import numpy as np\n",
        "\n",
        "#The digits are encoded into 10 categories\n",
        "y_train = to_categorical(y_train, 10)\n",
        "y_test = to_categorical(y_test, 10)\n",
        "print(\"done\")"
      ],
      "execution_count": null,
      "outputs": []
    },
    {
      "cell_type": "code",
      "metadata": {
        "id": "MfRUDcEJ8_Ze"
      },
      "source": [
        "#Check the digit for your chosen test \n",
        "digit = np.argmax(y_train[image_index])\n",
        "#print(\"The one hot encoding for the chosen digit is \" + str(y_train[image_index]))\n",
        "print(\"The chosen digit is \" + str(digit) + \"\\n\")"
      ],
      "execution_count": null,
      "outputs": []
    },
    {
      "cell_type": "code",
      "metadata": {
        "id": "qkIQrPdGESz6"
      },
      "source": [
        "#This code was added to get inputs for predictions. \n",
        "#Delete this code when using your own models\n",
        "\n",
        "import numpy as np\n",
        "x_check = x_test[9995:9999]\n",
        "y_check = y_test[9995:9999] \n",
        "#x_test = np.delete(x_test, [9995,9996,9997,9998,9999] )\n",
        "#y_test = np.delete(y_test, [9995,9996,9997,9998,9999] )\n",
        "#print(x_test.shape)\n",
        "#print(y_test.shape)\n",
        "#print(x_check.shape)\n",
        "#print(y_check.shape)"
      ],
      "execution_count": null,
      "outputs": []
    },
    {
      "cell_type": "markdown",
      "metadata": {
        "id": "am-v6R3nKbgT"
      },
      "source": [
        "Humans see the whole image"
      ]
    },
    {
      "cell_type": "code",
      "metadata": {
        "id": "i5f2piWCJ9Ma"
      },
      "source": [
        "Image(\"bike.png\")"
      ],
      "execution_count": null,
      "outputs": []
    },
    {
      "cell_type": "markdown",
      "metadata": {
        "id": "rpP-2dirKhmA"
      },
      "source": [
        "ML Models must be shown pieces of the image, then predict it is a bike."
      ]
    },
    {
      "cell_type": "code",
      "metadata": {
        "id": "8LB_yX3pKS85"
      },
      "source": [
        "Image(\"bikeParts.png\")"
      ],
      "execution_count": null,
      "outputs": []
    },
    {
      "cell_type": "markdown",
      "metadata": {
        "id": "ehVdd0sKlTBW"
      },
      "source": [
        "##Understanding of the layers used in Convolutional Neural Networks"
      ]
    },
    {
      "cell_type": "code",
      "metadata": {
        "id": "sIR-msEIG9wC"
      },
      "source": [
        "page(15)"
      ],
      "execution_count": null,
      "outputs": []
    },
    {
      "cell_type": "markdown",
      "metadata": {
        "id": "yr-IDfb6EMtV"
      },
      "source": [
        "##Convolution\n",
        "Convolution is basically filtering the image with a smaller pixel filter (also called kernel) to decrease the size of the image without loosing the relationship between pixels. The relationship between pixels is crucial for the model to learn about the image."
      ]
    },
    {
      "cell_type": "markdown",
      "metadata": {
        "id": "Qx8aIt45Hc2c"
      },
      "source": [
        "In the figures below the 2x2 kernal is convolved with a 4x4 image. The kernal 'strides' across the image one pixel at a time. <br><br>\n",
        "In this instance the stride is 1, but the stride can be any number.  The kernal can also be any size, but it is usually smaller than the image and larger than a 1x1 matrix. The most commonly used kernel size is 3x3. <br><br>\n",
        "\n",
        "To calculate the convoluted feature: multiply the corresponding image pixel with the kernal pixel. "
      ]
    },
    {
      "cell_type": "code",
      "metadata": {
        "id": "yeq7A303HSmS"
      },
      "source": [
        "Image(\"Intro to Deep Neural Networks with Keras (116).png\",width=690)"
      ],
      "execution_count": null,
      "outputs": []
    },
    {
      "cell_type": "code",
      "metadata": {
        "id": "JcHlYlBgHVmi"
      },
      "source": [
        "Image(\"Intro to Deep Neural Networks with Keras (16).png\",width=690)"
      ],
      "execution_count": null,
      "outputs": []
    },
    {
      "cell_type": "markdown",
      "metadata": {
        "id": "gMrGtxVnKqYa"
      },
      "source": [
        "This image and kernel requires 9 steps to completely filter the image. So on the 9th convolution, the convoluted feature is complete. <br><br>\n",
        "Notice the convoluted feature is smaller than the original image. For this case, this is good, the smaller convoluted feature makes the network smaller and easier to train. <br><br>\n",
        "To keep the convoluted image the same size as the original image, rows and columns of zeros are added to the original image and the kernal uses these during convolution. These additional rows and columns are called 'padding'. "
      ]
    },
    {
      "cell_type": "code",
      "metadata": {
        "id": "d8Fff3BaHYS7"
      },
      "source": [
        "page(18)"
      ],
      "execution_count": null,
      "outputs": []
    },
    {
      "cell_type": "markdown",
      "metadata": {
        "id": "GbqD_Y5fUCJF"
      },
      "source": [
        "Keras will randomly initialize the kernals when the model is trained. Which is good because it reliefs you from writing the code to initialize all the parameters. <br><br>\n",
        "The downside is, each time the model is trained the initialization values change, so your model performance will change. <br><br>\n",
        "**It is a good practice to always save your models after training, then select the best performing model to re-use**. "
      ]
    },
    {
      "cell_type": "markdown",
      "metadata": {
        "id": "WZl-40npVZOt"
      },
      "source": [
        "Just for your information, there are a number of filters that are used for specific tasks, you may use these when you do certain types of image classification.  <br>\n",
        "\n",
        "A few of these filters are listed below. "
      ]
    },
    {
      "cell_type": "code",
      "metadata": {
        "id": "pinVbvtUT4-M"
      },
      "source": [
        "page(24)"
      ],
      "execution_count": null,
      "outputs": []
    },
    {
      "cell_type": "markdown",
      "metadata": {
        "id": "EC7UaC5VXK-t"
      },
      "source": [
        "##Pooling"
      ]
    },
    {
      "cell_type": "markdown",
      "metadata": {
        "id": "Xgo_y-KdXRdj"
      },
      "source": [
        "Convolution maps a region of an image to a feature map. This helps the network detect features of the image. <br><br>\n",
        "The next step after convolution is called 'pooling'. Pooling is used to reduce the resolution of the feature map while retaining the features required for classification. <br><br>\n",
        "Backpropagation (which we will not discuss in this class) is used to train the pooling operation. <br><br>\n",
        "In the figure below, two types of pooling are demonstrated. The top example is max pooling. In max pooling a filter slides over the image and the maximum value within the filter is saved, and the other pixel values are discarded. <br><br>\n",
        "With average pooling the average of the values is saved, the values themselves are discarded. <br><br>\n",
        "In convolution, the kernel partially overlaps itself as it slides across the image. With pooling, there is no overlap. "
      ]
    },
    {
      "cell_type": "code",
      "metadata": {
        "id": "VkaGUa2zYUwB"
      },
      "source": [
        "page(19)"
      ],
      "execution_count": null,
      "outputs": []
    },
    {
      "cell_type": "markdown",
      "metadata": {
        "id": "-66pCEP3kEoc"
      },
      "source": [
        "##Flatten"
      ]
    },
    {
      "cell_type": "markdown",
      "metadata": {
        "id": "nPMqBwK3kJRW"
      },
      "source": [
        "Flattening a tensor means removing all of the dimensions except for one. This is exactly what the Flatten layer does."
      ]
    },
    {
      "cell_type": "code",
      "metadata": {
        "id": "v39ZFMHxlxOA"
      },
      "source": [
        "page(28)"
      ],
      "execution_count": null,
      "outputs": []
    },
    {
      "cell_type": "markdown",
      "metadata": {
        "id": "ln4oDEgjmAON"
      },
      "source": [
        "##Dense Layers"
      ]
    },
    {
      "cell_type": "markdown",
      "metadata": {
        "id": "8qCir9QsmV5R"
      },
      "source": [
        "A dense layer is also known as a fully connected layer.<br><br>\n",
        "\n",
        "Dense Layer is regular layer of neurons in Neural Network. Each neuron receives input from all previous neurons. Hence it forms Dense Layer. This layer represents matrix vector multiplication. "
      ]
    },
    {
      "cell_type": "code",
      "metadata": {
        "id": "kvrmJn2Zpglx"
      },
      "source": [
        "page(29)"
      ],
      "execution_count": null,
      "outputs": []
    },
    {
      "cell_type": "markdown",
      "metadata": {
        "id": "wuW1spuCpm7T"
      },
      "source": [
        "Layers are made of a collection of neurons. <br><br>\n",
        "A neuron takes a group of weighted inputs, applies an activation function, and returns an output.<br><br>\n",
        "\n",
        "Inputs to a neuron can either be features from a training set or outputs from a previous layer’s neurons. Weights are applied to the inputs as they travel along synapses to reach the neuron. The neuron then applies an activation function to the “sum of weighted inputs” from each incoming synapse and passes the result on to all the neurons in the next layer."
      ]
    },
    {
      "cell_type": "code",
      "metadata": {
        "id": "VuofMAuNqDH4"
      },
      "source": [
        "page(30)"
      ],
      "execution_count": null,
      "outputs": []
    },
    {
      "cell_type": "markdown",
      "metadata": {
        "id": "3GFKMElQsxOU"
      },
      "source": [
        "##Activation Functions"
      ]
    },
    {
      "cell_type": "code",
      "metadata": {
        "id": "thd6wHnws00o"
      },
      "source": [
        "page(31)"
      ],
      "execution_count": null,
      "outputs": []
    },
    {
      "cell_type": "markdown",
      "metadata": {
        "id": "lot-rCFIs0Hj"
      },
      "source": [
        "Activation functions are an extremely important feature of the artificial neural networks. They basically decide whether a neuron should be activated or not. Whether the information that the neuron is receiving is relevant for the given information or should it be ignored.<br><br>\n",
        "\n",
        "The activation function is the non linear transformation that we do over the input signal. This transformed output is then sent to the next layer of neurons as input.<br><br>\n",
        "\n",
        "Can we do without an activation function?<br>\n",
        "Now the question which arises is that if the activation function increases the complexity so much, can we do without an activation function?<br><br>\n",
        "\n",
        "When we do not have the activation function the weights and bias would simply do a linear transformation. A linear equation is simple to solve but is limited in its capacity to solve complex problems. A neural network without an activation function is essentially just a linear regression model. The activation function does the non-linear transformation to the input making it capable to learn and perform more complex tasks. We would want our neural networks to work on complicated tasks like language translations and image classifications. Linear transformations would never be able to perform such tasks.\n",
        "<br><br>\n",
        "Activation functions make the back-propagation possible since the gradients are supplied along with the error to update the weights and biases. Without the differentiable non linear function, this would not be possible.<br><br>\n"
      ]
    },
    {
      "cell_type": "markdown",
      "metadata": {
        "id": "UYAyBER5lo8t"
      },
      "source": [
        "##Softmax\n",
        "The Softmax function is an activation function that turns numbers into probabilities that sum to one. The function outputs a vector that represents the probability distributions of a list of potential outcomes."
      ]
    },
    {
      "cell_type": "code",
      "metadata": {
        "id": "7DZv0LFNlujZ"
      },
      "source": [
        "page(25)"
      ],
      "execution_count": null,
      "outputs": []
    },
    {
      "cell_type": "code",
      "metadata": {
        "id": "zAzVRmcel2qi"
      },
      "source": [
        "page(26)"
      ],
      "execution_count": null,
      "outputs": []
    },
    {
      "cell_type": "markdown",
      "metadata": {
        "id": "KJEgrusBvEFp"
      },
      "source": [
        "##Dropout"
      ]
    },
    {
      "cell_type": "code",
      "metadata": {
        "id": "_edBJKP4GSdi"
      },
      "source": [
        "page(33)"
      ],
      "execution_count": null,
      "outputs": []
    },
    {
      "cell_type": "markdown",
      "metadata": {
        "id": "pRy1nLVhFfAM"
      },
      "source": [
        "Dropout refers to ignoring neurons during training. The dropped neuron are selected at random. Ignoring means these units are not considered during a particular forward or backward pass.<br><br>\n",
        "\n",
        "At each training stage, individual nodes are either dropped out of the net so that a reduced network is left.  The incoming and outgoing edges to a dropped-out node are also removed.<br><br>\n",
        "\n",
        "Why do we need Dropout?<br>\n",
        "Dropout is used “to prevent over-fitting”.\n",
        "A fully connected layer occupies most of the parameters, and hence, neurons develop co-dependency amongst each other during training which curbs the individual power of each neuron leading to over-fitting of training data."
      ]
    },
    {
      "cell_type": "code",
      "metadata": {
        "id": "ZO8LcPYKgaB1"
      },
      "source": [
        "page(35)"
      ],
      "execution_count": null,
      "outputs": []
    },
    {
      "cell_type": "markdown",
      "metadata": {
        "id": "YnbSkuLkJC2c"
      },
      "source": [
        "###Underfitting a model"
      ]
    },
    {
      "cell_type": "markdown",
      "metadata": {
        "id": "0wV_y_1TIUm9"
      },
      "source": [
        "An underfit model performs poorly even on the training set, we say that the model has a high bias.\n",
        "\n",
        "According to Andrew Ng, the best methods of dealing with an underfitting model is trying a bigger neural network (adding new layers or increasing the number of neurons in existing layers) or training the model a little bit longer."
      ]
    },
    {
      "cell_type": "markdown",
      "metadata": {
        "id": "FvXng85EJXqA"
      },
      "source": [
        "###Overfitting a model\n"
      ]
    },
    {
      "cell_type": "markdown",
      "metadata": {
        "id": "0WxLw_8_IjZm"
      },
      "source": [
        "Overfitting occurs when the model performs well when it is evaluated using the training set, but cannot achieve good accuracy when the test dataset is used. This kind of problem is called “high variance,” and it usually means that the model cannot generalize the insights from the training dataset.\n",
        "\n",
        "Andrew Ng suggests that the best solution to overfitting is getting more data and using regularization.\n",
        "\n",
        "Such a solution is suggested, because the model may not get enough training examples to learn the patterns properly, so adding news observations to the training dataset may increase the chance of getting a better model.\n",
        "\n",
        "On the other hand, it is possible that the neural network is too complicated and because of that, it can deal adequately only with the training set examples. If it were a human writing an exam at school, we would say that he/she has memorized the homework, but he/she did not learn the concept. The same may happen to a machine learning model."
      ]
    },
    {
      "cell_type": "markdown",
      "metadata": {
        "id": "EMg2i6WkuKUz"
      },
      "source": [
        "##Create a Deep Neural Network model "
      ]
    },
    {
      "cell_type": "code",
      "metadata": {
        "id": "8REDiCnKAqsN"
      },
      "source": [
        "page(13)"
      ],
      "execution_count": null,
      "outputs": []
    },
    {
      "cell_type": "markdown",
      "metadata": {
        "id": "ThaJjewgA0SW"
      },
      "source": [
        "The convolutional neural network has 9 layers. \n",
        "The first six layers are for feature extraction and the last 3 are for classifying the image. <br><br>\n",
        "Notice the convoultional layers, what is the kernel size, the activation function, and the number of filters for each layer?\n",
        "\n",
        "\n",
        "\n"
      ]
    },
    {
      "cell_type": "code",
      "metadata": {
        "id": "o83g7DvRlTMJ"
      },
      "source": [
        "from tensorflow.keras.models import Sequential\n",
        "from tensorflow.keras.layers import Conv2D, MaxPool2D, Dense, Flatten, Dropout, BatchNormalization\n",
        "\n",
        "#keras.layers.BatchNormalization()\n",
        "\n",
        "model = Sequential()\n",
        "#create the feature extraction layers\n",
        "#layer1,2,3 (Dropout is not considered a layer)\n",
        "model.add(Conv2D(filters=32, kernel_size=(5,5), activation='relu', input_shape=x_train.shape[1:]))\n",
        "model.add(Conv2D(filters=32, kernel_size=(5,5), activation='relu'))\n",
        "model.add(MaxPool2D(pool_size=(2, 2)))\n",
        "model.add(Dropout(rate=0.25))\n",
        "#layer4,5,6\n",
        "model.add(Conv2D(filters=64, kernel_size=(3, 3), activation='relu'))\n",
        "model.add(Conv2D(filters=64, kernel_size=(3, 3), activation='relu'))\n",
        "model.add(MaxPool2D(pool_size=(2, 2)))\n",
        "model.add(Dropout(rate=0.25))\n",
        "#layer7\n",
        "model.add(Flatten())\n",
        "#Create the classification layers\n",
        "#layer8,9\n",
        "model.add(Dense(256, activation='relu'))\n",
        "model.add(Dropout(rate=0.5))\n",
        "model.add(Dense(10, activation='softmax'))\n",
        "\n",
        "model.compile(\n",
        "    loss='categorical_crossentropy', \n",
        "    optimizer='adam', \n",
        "    metrics=['accuracy']\n",
        ")\n",
        "print(\"done\")"
      ],
      "execution_count": null,
      "outputs": []
    },
    {
      "cell_type": "markdown",
      "metadata": {
        "id": "UQDgC5xLlw5d"
      },
      "source": [
        "##Examine the model"
      ]
    },
    {
      "cell_type": "code",
      "metadata": {
        "id": "Rj1P7gKnBGUv"
      },
      "source": [
        "page(14)"
      ],
      "execution_count": null,
      "outputs": []
    },
    {
      "cell_type": "code",
      "metadata": {
        "id": "ttmZDXDQlzKe"
      },
      "source": [
        "model.summary()"
      ],
      "execution_count": null,
      "outputs": []
    },
    {
      "cell_type": "markdown",
      "metadata": {
        "id": "mAiOL9xYzPjH"
      },
      "source": [
        "##Data augmentation for images\n"
      ]
    },
    {
      "cell_type": "code",
      "metadata": {
        "id": "RHxx0mGsg41C"
      },
      "source": [
        "page(100)\n",
        "Image(\"Intro to Deep Neural Networks with Keras (100).png\", width=700)"
      ],
      "execution_count": null,
      "outputs": []
    },
    {
      "cell_type": "markdown",
      "metadata": {
        "id": "R0SLfQxIhNSc"
      },
      "source": [
        "This is a large dataset, so you do not need to do any data augmentation, so in the code in the next cell, the values are all zero.  \n",
        "\n",
        "If you need to increase the size of your dataset, a quick way to do it is with augmentation. An image can be rotated, flipped vertically or horizontally, cropped, or shifted to create additional data instances. \n",
        "\n",
        "The code in the cell below is included as an example of how to do data augmentation. "
      ]
    },
    {
      "cell_type": "code",
      "metadata": {
        "id": "LuoVT5GRzK2D"
      },
      "source": [
        "from tensorflow.keras.preprocessing.image import ImageDataGenerator\n",
        "\n",
        "#when doing data augmentation, change the values \n",
        "datagen = ImageDataGenerator(\n",
        "  rotation_range=0,\n",
        "  zoom_range=0,\n",
        "  width_shift_range=0,\n",
        "  height_shift_range=0\n",
        ")\n",
        "print(\"done\")"
      ],
      "execution_count": null,
      "outputs": []
    },
    {
      "cell_type": "markdown",
      "metadata": {
        "id": "vKPXTPE1zbIr"
      },
      "source": [
        "##Train the model\n",
        "Training this model takes some time. If we did one epoch it would \n",
        "take us at least 10 minutes. \n",
        "\n",
        "</br>When training a model, you might want to start at 5 or 10 epochs.  For the sake of time, you download a model already trained on 20 epochs. "
      ]
    },
    {
      "cell_type": "code",
      "metadata": {
        "id": "noIdFtFOzbSw"
      },
      "source": [
        "#This code is commented it out because we are not training the model. \n",
        "#We are loading a trained model.\n",
        "\n",
        "#One epoch is not enough to train the model. For the sake of time, you only train\n",
        "#on one epoch. When training a model, start with at least 4 epochs. \n",
        "epochs = 20\n",
        "#When training, chaning the batch size can improve model performance. \n",
        "#Batch sizes to try: 32, 64, 128\n",
        "batch_size = 32\n",
        "#history = model.fit(x_train, y_train, validation_data=(x_test,y_test), verbose=0)\n",
        "#history = model.fit_generator(datagen.flow(x_train, y_train, batch_size=batch_size), epochs=epochs,\n",
        "#                              validation_data=(x_test, y_test), steps_per_epoch=x_train.shape[0]//batch_size)\n",
        "print(\"done\")"
      ],
      "execution_count": null,
      "outputs": []
    },
    {
      "cell_type": "markdown",
      "metadata": {
        "id": "C7V4oFygccIX"
      },
      "source": [
        "##Load the saved model\n",
        "<br><br>\n",
        "The saved model was trained on 20 epochs with dropout. "
      ]
    },
    {
      "cell_type": "code",
      "metadata": {
        "id": "cLdlmArphnXg"
      },
      "source": [
        "# load the model\n",
        "\n",
        "from numpy import loadtxt\n",
        "from keras.models import load_model\n",
        "#model.save(\"drive/My Drive/modelMNIST-10epochs.h5\")\n",
        "model = tf.keras.models.load_model('modelMNIST20epochsDropOut5.h5')\n",
        "print(\"done\")"
      ],
      "execution_count": null,
      "outputs": []
    },
    {
      "cell_type": "markdown",
      "metadata": {
        "id": "_m3xVfCB7sqt"
      },
      "source": [
        "##Visualize the training"
      ]
    },
    {
      "cell_type": "code",
      "metadata": {
        "id": "tUxO7WQZrzg7"
      },
      "source": [
        "#This code was added because we are loading a saved model. \n",
        "#Delete this code when training your own model\n",
        "\n",
        "history={\n",
        "'loss' : [0.02159241828986839, 0.024359366491305854, 0.024075006447355083, 0.022434302305513597, 0.022502201637798196, 0.02092262319721639, \n",
        "        0.022628609957231833, 0.023984545621410218, 0.0229671287720994, 0.022892831495716928, 0.02297513877024704, 0.02238998557519702, \n",
        "        0.023669260091022035, 0.021758925482126285, 0.02549580325261595, 0.024763063155473206, 0.02372065919294233, 0.025702197297606425, \n",
        "        0.023723514277891884, 0.02281903999319464],\n",
        "'accuracy' : [0.99403334, 0.9931333, 0.99298334, 0.9931833, 0.9935833, 0.9935667, 0.99338335, 0.99328333, 0.9931167, 0.99343336, 0.9938833, \n",
        "            0.99371666, 0.99333334, 0.9942667, 0.9931833, 0.9935333, 0.99355, 0.9932, 0.9934833, 0.9939167],\n",
        "\n",
        "'val_loss' : [0.026281631059093, 0.028667511040699006, 0.02301221162546947, 0.025282778917519604, 0.024452570569623546, 0.035854992368808306, \n",
        "            0.02532163344535977, 0.02743238721277157, 0.02539914317318045, 0.029287450911669267, 0.0317203404111008, 0.02501243616821786, \n",
        "            0.02125193558843274, 0.025320859121663195, 0.02633974252908173, 0.028473211738133632, 0.0272574734327402, 0.029718255650349197, \n",
        "            0.03425914892460101, 0.025203502631789627],\n",
        "'val_accuracy' : [0.9931, 0.9928, 0.9938, 0.9943, 0.9946, 0.9927, 0.994, 0.9933, 0.9945, 0.9938, 0.9931, 0.9934, 0.9952, 0.994, 0.9944, \n",
        "                0.9934, 0.9935, 0.994, 0.993, 0.9942]\n",
        "}\n",
        "\n",
        "#This code was modified because we are loading a saved model. \n",
        "#Change the code to: \n",
        "#print(history.history.keys())\n",
        "#print(history.history)\n",
        "print(history.keys())\n",
        "print(history)"
      ],
      "execution_count": null,
      "outputs": []
    },
    {
      "cell_type": "code",
      "metadata": {
        "id": "-Esy9msx7s10"
      },
      "source": [
        "#This code was modified because we are loading a saved model. \n",
        "#Change the code to: \n",
        "#plt.plot(history.history['accuracy'], label='training accuracy')\n",
        "#plt.plot(history.history['val_accuracy'], label='testing accuracy')\n",
        "\n",
        "import matplotlib.pyplot as plt\n",
        "\n",
        "axes = plt.gca()\n",
        "axes.set_ylim([0.9,1])\n",
        "plt.plot(history['accuracy'], label='training accuracy')\n",
        "plt.plot(history['val_accuracy'], label='testing accuracy')\n",
        "plt.title('Accuracy')\n",
        "plt.xlabel('epochs')\n",
        "plt.ylabel('accuracy')\n",
        "plt.legend()"
      ],
      "execution_count": null,
      "outputs": []
    },
    {
      "cell_type": "code",
      "metadata": {
        "id": "RcIBz1rw0li7"
      },
      "source": [
        "#This code was modified because we are loading a saved model. \n",
        "#Change the code to: \n",
        "#plt.plot(history.history['loss'], label='training loss')\n",
        "#plt.plot(history.history['val_loss'], label='testing accuracy')\n",
        "\n",
        "axes = plt.gca()\n",
        "axes.set_ylim([.0,.5])\n",
        "plt.plot(history['loss'], label='training loss')\n",
        "plt.plot(history['val_loss'], label='testing loss')\n",
        "plt.title('Loss')\n",
        "plt.xlabel('epochs')\n",
        "plt.ylabel('loss')\n",
        "plt.legend()"
      ],
      "execution_count": null,
      "outputs": []
    },
    {
      "cell_type": "markdown",
      "metadata": {
        "id": "soRbXDyrQCzn"
      },
      "source": [
        "##Check the model's prediction capabilities"
      ]
    },
    {
      "cell_type": "code",
      "metadata": {
        "id": "OO3zkZUzPwE1"
      },
      "source": [
        "test_index = 999\n",
        "test_img = x_test[test_index]\n",
        "plt.imshow(test_img.reshape(28,28), cmap='gray')\n",
        "plt.colorbar()\n",
        "#plt.title(\"Index:[{}] Value:{}\".format(test_index, y_train.values[7777]))\n",
        "plt.show()"
      ],
      "execution_count": null,
      "outputs": []
    },
    {
      "cell_type": "code",
      "metadata": {
        "id": "SXPBrOZjP0NH"
      },
      "source": [
        "from tensorflow.keras.models import Model\n",
        "from tensorflow.keras.layers import Input, Dense\n",
        "import matplotlib as mpl\n",
        "inp = model.input \n",
        "\n",
        "layer_outputs = [layer.output for layer in model.layers]\n",
        "activation_model = Model(inputs=model.input, outputs=layer_outputs)\n",
        "activations = activation_model.predict(test_img.reshape(1,28,28,1))\n",
        "\n",
        "def display_activation(activations, col_size, row_size, act_index):\n",
        "  activation = activations[act_index]\n",
        "  activation_index=0\n",
        "  fig, ax = plt.subplots(row_size, col_size, figsize=(row_size*2.5,col_size*1.5))\n",
        "  #plt.colorbar('gray')\n",
        "  for row in range(0,row_size):\n",
        "    for col in range(0,col_size):\n",
        "      ax[row][col].imshow(activation[0, :, :, activation_index], cmap='gray')\n",
        "      activation_index += 1\n",
        "\n",
        "print(\"done\")\n"
      ],
      "execution_count": null,
      "outputs": []
    },
    {
      "cell_type": "code",
      "metadata": {
        "id": "nwYlMwYykbn1"
      },
      "source": [
        "import numpy as np\n",
        "\n",
        "act_dense_3 = activations[11]\n",
        "y = act_dense_3[0]\n",
        "x = range(len(y))\n",
        "objects = np.arange(0, 9, step=1)\n",
        "plt.xticks(x, objects)\n",
        "plt.bar(x,y,align='center')\n",
        "plt.show()"
      ],
      "execution_count": null,
      "outputs": []
    },
    {
      "cell_type": "code",
      "metadata": {
        "id": "cjiQ3Df7RcOu"
      },
      "source": [
        "print(activations[11])"
      ],
      "execution_count": null,
      "outputs": []
    },
    {
      "cell_type": "markdown",
      "metadata": {
        "id": "T584Gz1F2rjc"
      },
      "source": [
        "###Use the model to predict digits"
      ]
    },
    {
      "cell_type": "code",
      "metadata": {
        "id": "cWkjjVxFwxKr"
      },
      "source": [
        "#Pick a number (0-3) from the check set\n",
        "\n",
        "choose = 0 \n",
        "test_img = x_check[choose] \n",
        "#print(x_check[choose])\n",
        "#Determine what is the digit for your chosen test \n",
        "digit = np.argmax((y_check[choose]))\n",
        "print(\"The chosen digit is \" + str(digit))\n",
        "\n",
        "#Use the model to predict the chosen digit\n",
        "pred = model.predict(test_img.reshape(1,28,28,1))\n",
        "#Print the array of probabilites for the digits 0 -9\n",
        "print(\"\\nThe model prediction is: \")\n",
        "print(pred)\n",
        "\n",
        "#Print the index of the max value of the probabilities array, \n",
        "#This is the predicted digit\n",
        "answer = np.argmax(pred)\n",
        "print(\"Which is \" + str(answer))"
      ],
      "execution_count": null,
      "outputs": []
    },
    {
      "cell_type": "code",
      "metadata": {
        "id": "r1KsIz59Y-1g"
      },
      "source": [
        "activation_model = Model(inputs=model.input, outputs=layer_outputs)\n",
        "activations = activation_model.predict(test_img.reshape(1,28,28,1))\n",
        "\n",
        "\n",
        "act_dense_3 = activations[11]\n",
        "y = act_dense_3[0]\n",
        "x = range(len(y))\n",
        "objects = np.arange(0, 9, step=1)\n",
        "plt.xticks(x, objects)\n",
        "plt.bar(x,y,align='center')\n",
        "plt.show()"
      ],
      "execution_count": null,
      "outputs": []
    },
    {
      "cell_type": "code",
      "metadata": {
        "id": "1RK6c99vnwZs"
      },
      "source": [
        "page(36)"
      ],
      "execution_count": null,
      "outputs": []
    },
    {
      "cell_type": "markdown",
      "metadata": {
        "id": "EOgw1FK0r_Kj"
      },
      "source": [
        "#Please give feedback for this course: \n",
        "\n",
        "[Intro to DNN with Keras](https://docs.google.com/forms/d/e/1FAIpQLSceD-PVXYfXTDFBRd6UrhtEO0jxPS_iXtSEQEy3POQ3lh8l-A/viewform?usp=pp_url)\n"
      ]
    },
    {
      "cell_type": "markdown",
      "metadata": {
        "id": "jdWd56X5e2VR"
      },
      "source": [
        "##[TensorFlow Playground](https://playground.tensorflow.org/#activation=tanh&batchSize=10&dataset=circle&regDataset=reg-plane&learningRate=0.03&regularizationRate=0&noise=0&networkShape=4,2&seed=0.50576&showTestData=false&discretize=false&percTrainData=50&x=true&y=true&xTimesY=false&xSquared=false&ySquared=false&cosX=false&sinX=false&cosY=false&sinY=false&collectStats=false&problem=classification&initZero=false&hideText=false)"
      ]
    }
  ]
}